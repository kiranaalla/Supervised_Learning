{
 "cells": [
  {
   "cell_type": "code",
   "execution_count": 2,
   "id": "d7b9f412-f1ed-44d7-a0ea-2cc37402e741",
   "metadata": {},
   "outputs": [
    {
     "name": "stdin",
     "output_type": "stream",
     "text": [
      "Enter W value 0.6\n"
     ]
    },
    {
     "name": "stdout",
     "output_type": "stream",
     "text": [
      "Mean Absolute Error is :-  12.1\n",
      "Mean Square Error is :-  148.02\n"
     ]
    }
   ],
   "source": [
    "import numpy as np \n",
    "\n",
    "def mae(List_X , List_Y , W) :\n",
    "    b = 0\n",
    "    error = 0\n",
    "    for i in range(len(List_X)) :\n",
    "        predicted_output = W * List_X[i] + b\n",
    "        error += (List_Y[i] - predicted_output)\n",
    "    error = np.abs(error)    \n",
    "    return error / len(List_X) \n",
    "\n",
    "def mse(List_X , List_Y ,W) :\n",
    "    b = 0 \n",
    "    error = 0 \n",
    "    for i in range(len(List_X)) :\n",
    "        predicted_output = W * List_X[i] + b\n",
    "        error += (List_Y[i] - predicted_output) ** 2\n",
    "    return error / len(List_X) \n",
    "    \n",
    "List_X = [2,7,8,9]\n",
    "List_Y = [13,15,19,17]\n",
    "W = float(input(\"Enter W value\")) \n",
    "mae_result = mae(List_X , List_Y , W)\n",
    "print(\"Mean Absolute Error is :- \",mae_result)\n",
    "mse_result = mse(List_X , List_Y , W) \n",
    "print(\"Mean Square Error is :- \",mse_result) \n"
   ]
  },
  {
   "cell_type": "code",
   "execution_count": null,
   "id": "1d8ed21a-7ff6-4612-9d9a-b196a826aa24",
   "metadata": {},
   "outputs": [],
   "source": []
  },
  {
   "cell_type": "code",
   "execution_count": null,
   "id": "1b8ff254-448a-4bb5-8f70-d2708aa0bed3",
   "metadata": {},
   "outputs": [],
   "source": []
  }
 ],
 "metadata": {
  "kernelspec": {
   "display_name": "Python 3 (ipykernel)",
   "language": "python",
   "name": "python3"
  },
  "language_info": {
   "codemirror_mode": {
    "name": "ipython",
    "version": 3
   },
   "file_extension": ".py",
   "mimetype": "text/x-python",
   "name": "python",
   "nbconvert_exporter": "python",
   "pygments_lexer": "ipython3",
   "version": "3.11.7"
  }
 },
 "nbformat": 4,
 "nbformat_minor": 5
}
