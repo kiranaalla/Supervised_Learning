{
 "cells": [
  {
   "cell_type": "code",
   "execution_count": 1,
   "id": "3070744c-661a-48d6-908e-daa83f23f999",
   "metadata": {},
   "outputs": [],
   "source": [
    "import pandas as pd\n",
    "import numpy as np\n",
    "import matplotlib.pyplot as plt"
   ]
  },
  {
   "cell_type": "code",
   "execution_count": 2,
   "id": "0998fb27-e901-46e0-ac68-5a4d30374329",
   "metadata": {},
   "outputs": [],
   "source": [
    "#preapre a machine learning model for prediction of resale price of used cars."
   ]
  },
  {
   "cell_type": "code",
   "execution_count": 3,
   "id": "81c197c5-220e-47fd-85e4-8aea80ef8755",
   "metadata": {},
   "outputs": [],
   "source": [
    "df = pd.read_csv(r\"C:\\Users\\faizu\\OneDrive\\Desktop\\cars24-car-price-cleaned.csv\")"
   ]
  },
  {
   "cell_type": "code",
   "execution_count": 4,
   "id": "2ced3f32-8a69-421a-a85a-0ef1534bc924",
   "metadata": {},
   "outputs": [
    {
     "name": "stdout",
     "output_type": "stream",
     "text": [
      "<class 'pandas.core.frame.DataFrame'>\n",
      "RangeIndex: 19820 entries, 0 to 19819\n",
      "Data columns (total 18 columns):\n",
      " #   Column            Non-Null Count  Dtype  \n",
      "---  ------            --------------  -----  \n",
      " 0   selling_price     19820 non-null  float64\n",
      " 1   year              19820 non-null  float64\n",
      " 2   km_driven         19820 non-null  int64  \n",
      " 3   mileage           19820 non-null  float64\n",
      " 4   engine            19820 non-null  float64\n",
      " 5   max_power         19820 non-null  float64\n",
      " 6   age               19820 non-null  float64\n",
      " 7   make              19820 non-null  object \n",
      " 8   model             19820 non-null  object \n",
      " 9   Individual        19820 non-null  int64  \n",
      " 10  Trustmark Dealer  19820 non-null  int64  \n",
      " 11  Diesel            19820 non-null  int64  \n",
      " 12  Electric          19820 non-null  int64  \n",
      " 13  LPG               19820 non-null  int64  \n",
      " 14  Petrol            19820 non-null  int64  \n",
      " 15  Manual            19820 non-null  int64  \n",
      " 16  5                 19820 non-null  int64  \n",
      " 17  >5                19820 non-null  int64  \n",
      "dtypes: float64(6), int64(10), object(2)\n",
      "memory usage: 2.7+ MB\n"
     ]
    }
   ],
   "source": [
    "df.info()\n",
    "# this command is used to tell the structure of the dataframe.how many columns are there and the columns are integer,float etc.."
   ]
  },
  {
   "cell_type": "code",
   "execution_count": 5,
   "id": "9b378b6b-7a7c-413b-8d7f-d4b7f2391df9",
   "metadata": {},
   "outputs": [
    {
     "data": {
      "text/html": [
       "<div>\n",
       "<style scoped>\n",
       "    .dataframe tbody tr th:only-of-type {\n",
       "        vertical-align: middle;\n",
       "    }\n",
       "\n",
       "    .dataframe tbody tr th {\n",
       "        vertical-align: top;\n",
       "    }\n",
       "\n",
       "    .dataframe thead th {\n",
       "        text-align: right;\n",
       "    }\n",
       "</style>\n",
       "<table border=\"1\" class=\"dataframe\">\n",
       "  <thead>\n",
       "    <tr style=\"text-align: right;\">\n",
       "      <th></th>\n",
       "      <th>selling_price</th>\n",
       "      <th>year</th>\n",
       "      <th>km_driven</th>\n",
       "      <th>mileage</th>\n",
       "      <th>engine</th>\n",
       "      <th>max_power</th>\n",
       "      <th>age</th>\n",
       "      <th>Individual</th>\n",
       "      <th>Trustmark Dealer</th>\n",
       "      <th>Diesel</th>\n",
       "      <th>Electric</th>\n",
       "      <th>LPG</th>\n",
       "      <th>Petrol</th>\n",
       "      <th>Manual</th>\n",
       "      <th>5</th>\n",
       "      <th>&gt;5</th>\n",
       "    </tr>\n",
       "  </thead>\n",
       "  <tbody>\n",
       "    <tr>\n",
       "      <th>count</th>\n",
       "      <td>19820.000000</td>\n",
       "      <td>19820.000000</td>\n",
       "      <td>1.982000e+04</td>\n",
       "      <td>19820.000000</td>\n",
       "      <td>19820.000000</td>\n",
       "      <td>19820.000000</td>\n",
       "      <td>19820.000000</td>\n",
       "      <td>19820.000000</td>\n",
       "      <td>19820.000000</td>\n",
       "      <td>19820.000000</td>\n",
       "      <td>19820.000000</td>\n",
       "      <td>19820.000000</td>\n",
       "      <td>19820.000000</td>\n",
       "      <td>19820.000000</td>\n",
       "      <td>19820.000000</td>\n",
       "      <td>19820.000000</td>\n",
       "    </tr>\n",
       "    <tr>\n",
       "      <th>mean</th>\n",
       "      <td>6.585509</td>\n",
       "      <td>2014.561453</td>\n",
       "      <td>5.815856e+04</td>\n",
       "      <td>19.503402</td>\n",
       "      <td>1475.702381</td>\n",
       "      <td>98.122907</td>\n",
       "      <td>8.438547</td>\n",
       "      <td>0.390666</td>\n",
       "      <td>0.009586</td>\n",
       "      <td>0.492583</td>\n",
       "      <td>0.000404</td>\n",
       "      <td>0.003229</td>\n",
       "      <td>0.487841</td>\n",
       "      <td>0.802674</td>\n",
       "      <td>0.835015</td>\n",
       "      <td>0.152825</td>\n",
       "    </tr>\n",
       "    <tr>\n",
       "      <th>std</th>\n",
       "      <td>4.847364</td>\n",
       "      <td>3.196636</td>\n",
       "      <td>5.171563e+04</td>\n",
       "      <td>4.297784</td>\n",
       "      <td>518.571223</td>\n",
       "      <td>44.761727</td>\n",
       "      <td>3.196636</td>\n",
       "      <td>0.487912</td>\n",
       "      <td>0.097442</td>\n",
       "      <td>0.499958</td>\n",
       "      <td>0.020087</td>\n",
       "      <td>0.056734</td>\n",
       "      <td>0.499865</td>\n",
       "      <td>0.397990</td>\n",
       "      <td>0.371176</td>\n",
       "      <td>0.359828</td>\n",
       "    </tr>\n",
       "    <tr>\n",
       "      <th>min</th>\n",
       "      <td>0.300000</td>\n",
       "      <td>1992.000000</td>\n",
       "      <td>1.000000e+02</td>\n",
       "      <td>4.000000</td>\n",
       "      <td>0.000000</td>\n",
       "      <td>5.000000</td>\n",
       "      <td>2.000000</td>\n",
       "      <td>0.000000</td>\n",
       "      <td>0.000000</td>\n",
       "      <td>0.000000</td>\n",
       "      <td>0.000000</td>\n",
       "      <td>0.000000</td>\n",
       "      <td>0.000000</td>\n",
       "      <td>0.000000</td>\n",
       "      <td>0.000000</td>\n",
       "      <td>0.000000</td>\n",
       "    </tr>\n",
       "    <tr>\n",
       "      <th>25%</th>\n",
       "      <td>3.410000</td>\n",
       "      <td>2013.000000</td>\n",
       "      <td>3.100000e+04</td>\n",
       "      <td>16.950000</td>\n",
       "      <td>1197.000000</td>\n",
       "      <td>73.900000</td>\n",
       "      <td>6.000000</td>\n",
       "      <td>0.000000</td>\n",
       "      <td>0.000000</td>\n",
       "      <td>0.000000</td>\n",
       "      <td>0.000000</td>\n",
       "      <td>0.000000</td>\n",
       "      <td>0.000000</td>\n",
       "      <td>1.000000</td>\n",
       "      <td>1.000000</td>\n",
       "      <td>0.000000</td>\n",
       "    </tr>\n",
       "    <tr>\n",
       "      <th>50%</th>\n",
       "      <td>5.200000</td>\n",
       "      <td>2015.000000</td>\n",
       "      <td>5.200000e+04</td>\n",
       "      <td>19.300000</td>\n",
       "      <td>1248.000000</td>\n",
       "      <td>86.800000</td>\n",
       "      <td>8.000000</td>\n",
       "      <td>0.000000</td>\n",
       "      <td>0.000000</td>\n",
       "      <td>0.000000</td>\n",
       "      <td>0.000000</td>\n",
       "      <td>0.000000</td>\n",
       "      <td>0.000000</td>\n",
       "      <td>1.000000</td>\n",
       "      <td>1.000000</td>\n",
       "      <td>0.000000</td>\n",
       "    </tr>\n",
       "    <tr>\n",
       "      <th>75%</th>\n",
       "      <td>7.850000</td>\n",
       "      <td>2017.000000</td>\n",
       "      <td>7.400000e+04</td>\n",
       "      <td>22.320000</td>\n",
       "      <td>1582.000000</td>\n",
       "      <td>112.000000</td>\n",
       "      <td>10.000000</td>\n",
       "      <td>1.000000</td>\n",
       "      <td>0.000000</td>\n",
       "      <td>1.000000</td>\n",
       "      <td>0.000000</td>\n",
       "      <td>0.000000</td>\n",
       "      <td>1.000000</td>\n",
       "      <td>1.000000</td>\n",
       "      <td>1.000000</td>\n",
       "      <td>0.000000</td>\n",
       "    </tr>\n",
       "    <tr>\n",
       "      <th>max</th>\n",
       "      <td>20.902500</td>\n",
       "      <td>2021.000000</td>\n",
       "      <td>3.800000e+06</td>\n",
       "      <td>120.000000</td>\n",
       "      <td>6752.000000</td>\n",
       "      <td>626.000000</td>\n",
       "      <td>31.000000</td>\n",
       "      <td>1.000000</td>\n",
       "      <td>1.000000</td>\n",
       "      <td>1.000000</td>\n",
       "      <td>1.000000</td>\n",
       "      <td>1.000000</td>\n",
       "      <td>1.000000</td>\n",
       "      <td>1.000000</td>\n",
       "      <td>1.000000</td>\n",
       "      <td>1.000000</td>\n",
       "    </tr>\n",
       "  </tbody>\n",
       "</table>\n",
       "</div>"
      ],
      "text/plain": [
       "       selling_price          year     km_driven       mileage        engine  \\\n",
       "count   19820.000000  19820.000000  1.982000e+04  19820.000000  19820.000000   \n",
       "mean        6.585509   2014.561453  5.815856e+04     19.503402   1475.702381   \n",
       "std         4.847364      3.196636  5.171563e+04      4.297784    518.571223   \n",
       "min         0.300000   1992.000000  1.000000e+02      4.000000      0.000000   \n",
       "25%         3.410000   2013.000000  3.100000e+04     16.950000   1197.000000   \n",
       "50%         5.200000   2015.000000  5.200000e+04     19.300000   1248.000000   \n",
       "75%         7.850000   2017.000000  7.400000e+04     22.320000   1582.000000   \n",
       "max        20.902500   2021.000000  3.800000e+06    120.000000   6752.000000   \n",
       "\n",
       "          max_power           age    Individual  Trustmark Dealer  \\\n",
       "count  19820.000000  19820.000000  19820.000000      19820.000000   \n",
       "mean      98.122907      8.438547      0.390666          0.009586   \n",
       "std       44.761727      3.196636      0.487912          0.097442   \n",
       "min        5.000000      2.000000      0.000000          0.000000   \n",
       "25%       73.900000      6.000000      0.000000          0.000000   \n",
       "50%       86.800000      8.000000      0.000000          0.000000   \n",
       "75%      112.000000     10.000000      1.000000          0.000000   \n",
       "max      626.000000     31.000000      1.000000          1.000000   \n",
       "\n",
       "             Diesel      Electric           LPG        Petrol        Manual  \\\n",
       "count  19820.000000  19820.000000  19820.000000  19820.000000  19820.000000   \n",
       "mean       0.492583      0.000404      0.003229      0.487841      0.802674   \n",
       "std        0.499958      0.020087      0.056734      0.499865      0.397990   \n",
       "min        0.000000      0.000000      0.000000      0.000000      0.000000   \n",
       "25%        0.000000      0.000000      0.000000      0.000000      1.000000   \n",
       "50%        0.000000      0.000000      0.000000      0.000000      1.000000   \n",
       "75%        1.000000      0.000000      0.000000      1.000000      1.000000   \n",
       "max        1.000000      1.000000      1.000000      1.000000      1.000000   \n",
       "\n",
       "                  5            >5  \n",
       "count  19820.000000  19820.000000  \n",
       "mean       0.835015      0.152825  \n",
       "std        0.371176      0.359828  \n",
       "min        0.000000      0.000000  \n",
       "25%        1.000000      0.000000  \n",
       "50%        1.000000      0.000000  \n",
       "75%        1.000000      0.000000  \n",
       "max        1.000000      1.000000  "
      ]
     },
     "execution_count": 5,
     "metadata": {},
     "output_type": "execute_result"
    }
   ],
   "source": [
    "df.describe() "
   ]
  },
  {
   "cell_type": "code",
   "execution_count": 6,
   "id": "b2fced2e-693b-43cf-abad-d0e2b64719eb",
   "metadata": {},
   "outputs": [
    {
     "data": {
      "text/plain": [
       "41"
      ]
     },
     "execution_count": 6,
     "metadata": {},
     "output_type": "execute_result"
    }
   ],
   "source": [
    "df[\"make\"].nunique() \n",
    "# this command will give me the unique values present in a particular column. "
   ]
  },
  {
   "cell_type": "code",
   "execution_count": 7,
   "id": "7238ffe8-7da9-4aea-b2c3-ce1ca1726d55",
   "metadata": {},
   "outputs": [
    {
     "data": {
      "text/plain": [
       "3233"
      ]
     },
     "execution_count": 7,
     "metadata": {},
     "output_type": "execute_result"
    }
   ],
   "source": [
    "df[\"model\"].nunique()"
   ]
  },
  {
   "cell_type": "code",
   "execution_count": 8,
   "id": "2a3635b5-55fd-4002-976d-a20dec0ed3f8",
   "metadata": {},
   "outputs": [
    {
     "data": {
      "text/plain": [
       "make\n",
       "MARUTI           5650\n",
       "HYUNDAI          3562\n",
       "HONDA            1779\n",
       "MAHINDRA         1276\n",
       "TOYOTA           1189\n",
       "TATA              971\n",
       "FORD              900\n",
       "VOLKSWAGEN        761\n",
       "RENAULT           636\n",
       "MERCEDES-BENZ     485\n",
       "BMW               483\n",
       "SKODA             422\n",
       "CHEVROLET         406\n",
       "AUDI              324\n",
       "NISSAN            289\n",
       "DATSUN            170\n",
       "FIAT              113\n",
       "JAGUAR             80\n",
       "LAND               51\n",
       "VOLVO              42\n",
       "JEEP               41\n",
       "MITSUBISHI         39\n",
       "KIA                33\n",
       "PORSCHE            25\n",
       "MINI               23\n",
       "MG                 19\n",
       "ISUZU              12\n",
       "LEXUS              10\n",
       "FORCE               5\n",
       "BENTLEY             4\n",
       "AMBASSADOR          4\n",
       "OPELCORSA           3\n",
       "DAEWOO              2\n",
       "PREMIER             2\n",
       "MASERATI            2\n",
       "DC                  2\n",
       "LAMBORGHINI         1\n",
       "FERRARI             1\n",
       "MERCEDES-AMG        1\n",
       "ROLLS-ROYCE         1\n",
       "OPEL                1\n",
       "Name: count, dtype: int64"
      ]
     },
     "execution_count": 8,
     "metadata": {},
     "output_type": "execute_result"
    }
   ],
   "source": [
    "#value_counts it will return the total value associated the unique value.\n",
    "df[\"make\"].value_counts() "
   ]
  },
  {
   "cell_type": "code",
   "execution_count": 9,
   "id": "4dd04141-1008-4e9d-a627-1024ee4bb658",
   "metadata": {},
   "outputs": [
    {
     "data": {
      "text/plain": [
       "model\n",
       "SWIFT DZIRE VDI              288\n",
       "ALTO 800 LXI                 189\n",
       "WAGON R VXI                  164\n",
       "SWIFT VDI                    150\n",
       "SWIFT DZIRE VXI              136\n",
       "                            ... \n",
       "XUV300 W6 DIESEL               1\n",
       "NANO STD BS IV                 1\n",
       "FABIA 1.2 TDI ACTIVE           1\n",
       "FIESTA PETROL STYLE            1\n",
       "YARIS V OPTIONAL CVT BSIV      1\n",
       "Name: count, Length: 3233, dtype: int64"
      ]
     },
     "execution_count": 9,
     "metadata": {},
     "output_type": "execute_result"
    }
   ],
   "source": [
    "df[\"model\"].value_counts()"
   ]
  },
  {
   "cell_type": "code",
   "execution_count": 10,
   "id": "cd511b8d-f450-4b8b-91e6-e0b0702cf1e8",
   "metadata": {},
   "outputs": [
    {
     "data": {
      "text/plain": [
       "'steps for multiple linear_regression .\\n1) before dividing the DataFrame into 2 parts(target & input variable) we have to check whether our dataframe contains any categorical data or not\\nif our dataframe contains the categorical data then we have to convert the categorical data into continuous data by encoding\\nwhen the number of values in the categorical column are limited or only very less then we make use of one hot encoding but if the categorical data has large number of values then we make use of target variable encoding.\\n'"
      ]
     },
     "execution_count": 10,
     "metadata": {},
     "output_type": "execute_result"
    }
   ],
   "source": [
    "\"\"\"steps for multiple linear_regression .\n",
    "1) before dividing the DataFrame into 2 parts(target & input variable) we have to check whether our dataframe contains any categorical data or not\n",
    "if our dataframe contains the categorical data then we have to convert the categorical data into continuous data by encoding\n",
    "when the number of values in the categorical column are limited or only very less then we make use of one hot encoding but if the categorical data has large number of values then we make use of target variable encoding.\n",
    "\"\"\"\n",
    "# bcoz machine learning model is a mathematical model and it only understands the digit not the words.\n",
    "# target encoding variable is replacing the categorical column by mean of the target variable. "
   ]
  },
  {
   "cell_type": "code",
   "execution_count": 11,
   "id": "c54d1daa-4ba6-4649-82d2-0c0afbedb755",
   "metadata": {},
   "outputs": [],
   "source": [
    "df[\"make\"] = df.groupby(\"make\")[\"selling_price\"].transform(\"mean\") "
   ]
  },
  {
   "cell_type": "code",
   "execution_count": 12,
   "id": "24272c59-fd2a-4077-9560-7fb55d2338a6",
   "metadata": {},
   "outputs": [],
   "source": [
    "df[\"model\"] = df.groupby(\"model\")[\"selling_price\"].transform(\"mean\") "
   ]
  },
  {
   "cell_type": "code",
   "execution_count": 13,
   "id": "5974a960-0008-4e1c-9789-535b8dae612c",
   "metadata": {},
   "outputs": [
    {
     "data": {
      "text/plain": [
       "\"feature scaling means we have to scale all the feartures in the same range.that means we will keeping all the features 0-1 so that our machine learnig model \\ndoesn't create a perception about any feature bcoz all features are important for us.\""
      ]
     },
     "execution_count": 13,
     "metadata": {},
     "output_type": "execute_result"
    }
   ],
   "source": [
    "# feature scaling or normalization. \n",
    "\"\"\"feature scaling means we have to scale all the feartures in the same range.that means we will keeping all the features 0-1 so that our machine learnig model \n",
    "doesn't create a perception about any feature bcoz all features are important for us.\"\"\""
   ]
  },
  {
   "cell_type": "code",
   "execution_count": 14,
   "id": "eb2f0127-63d8-4f43-a8f1-c0ee9ee41604",
   "metadata": {},
   "outputs": [],
   "source": [
    "from sklearn.preprocessing import MinMaxScaler\n",
    "scaler = MinMaxScaler() \n",
    "df1 = pd.DataFrame(scaler.fit_transform(df),columns = df.columns) "
   ]
  },
  {
   "cell_type": "code",
   "execution_count": 15,
   "id": "608be68a-51d5-4994-8a5c-203b6c260d56",
   "metadata": {},
   "outputs": [],
   "source": [
    "# minmaxscaler is the library used for feature scaling."
   ]
  },
  {
   "cell_type": "code",
   "execution_count": 16,
   "id": "4c0e5e33-abc3-4eec-81d0-844775402ba4",
   "metadata": {},
   "outputs": [],
   "source": [
    "# now divide the dataframe into target feature and independent features \n",
    "from sklearn.model_selection import train_test_split"
   ]
  },
  {
   "cell_type": "code",
   "execution_count": 17,
   "id": "0a74e94b-b33b-4ee5-a1d6-9b2a6cbd1b06",
   "metadata": {},
   "outputs": [
    {
     "data": {
      "text/plain": [
       "((19820,), (19820, 17))"
      ]
     },
     "execution_count": 17,
     "metadata": {},
     "output_type": "execute_result"
    }
   ],
   "source": [
    "y = df1[\"selling_price\"] \n",
    "x = df1.drop(\"selling_price\",axis = 1) \n",
    "y.shape,x.shape"
   ]
  },
  {
   "cell_type": "code",
   "execution_count": 18,
   "id": "87264e5e-6efc-427a-8ac5-67ec1b2cf4db",
   "metadata": {},
   "outputs": [
    {
     "data": {
      "text/plain": [
       "((13874, 17), (13874,), (5946, 17), (5946,))"
      ]
     },
     "execution_count": 18,
     "metadata": {},
     "output_type": "execute_result"
    }
   ],
   "source": [
    "x_train,x_test,y_train,y_test = train_test_split(x,y,test_size = 0.3,random_state = 1) \n",
    "x_train.shape,y_train.shape,x_test.shape,y_test.shape"
   ]
  },
  {
   "cell_type": "code",
   "execution_count": 19,
   "id": "e01f9efe-5df1-4d5c-bf6e-e5855e0644bd",
   "metadata": {},
   "outputs": [],
   "source": [
    "from sklearn.linear_model import LinearRegression"
   ]
  },
  {
   "cell_type": "code",
   "execution_count": 20,
   "id": "599cfbc3-386e-43cb-a099-e8e7fb447667",
   "metadata": {},
   "outputs": [
    {
     "data": {
      "text/html": [
       "<style>#sk-container-id-1 {color: black;background-color: white;}#sk-container-id-1 pre{padding: 0;}#sk-container-id-1 div.sk-toggleable {background-color: white;}#sk-container-id-1 label.sk-toggleable__label {cursor: pointer;display: block;width: 100%;margin-bottom: 0;padding: 0.3em;box-sizing: border-box;text-align: center;}#sk-container-id-1 label.sk-toggleable__label-arrow:before {content: \"▸\";float: left;margin-right: 0.25em;color: #696969;}#sk-container-id-1 label.sk-toggleable__label-arrow:hover:before {color: black;}#sk-container-id-1 div.sk-estimator:hover label.sk-toggleable__label-arrow:before {color: black;}#sk-container-id-1 div.sk-toggleable__content {max-height: 0;max-width: 0;overflow: hidden;text-align: left;background-color: #f0f8ff;}#sk-container-id-1 div.sk-toggleable__content pre {margin: 0.2em;color: black;border-radius: 0.25em;background-color: #f0f8ff;}#sk-container-id-1 input.sk-toggleable__control:checked~div.sk-toggleable__content {max-height: 200px;max-width: 100%;overflow: auto;}#sk-container-id-1 input.sk-toggleable__control:checked~label.sk-toggleable__label-arrow:before {content: \"▾\";}#sk-container-id-1 div.sk-estimator input.sk-toggleable__control:checked~label.sk-toggleable__label {background-color: #d4ebff;}#sk-container-id-1 div.sk-label input.sk-toggleable__control:checked~label.sk-toggleable__label {background-color: #d4ebff;}#sk-container-id-1 input.sk-hidden--visually {border: 0;clip: rect(1px 1px 1px 1px);clip: rect(1px, 1px, 1px, 1px);height: 1px;margin: -1px;overflow: hidden;padding: 0;position: absolute;width: 1px;}#sk-container-id-1 div.sk-estimator {font-family: monospace;background-color: #f0f8ff;border: 1px dotted black;border-radius: 0.25em;box-sizing: border-box;margin-bottom: 0.5em;}#sk-container-id-1 div.sk-estimator:hover {background-color: #d4ebff;}#sk-container-id-1 div.sk-parallel-item::after {content: \"\";width: 100%;border-bottom: 1px solid gray;flex-grow: 1;}#sk-container-id-1 div.sk-label:hover label.sk-toggleable__label {background-color: #d4ebff;}#sk-container-id-1 div.sk-serial::before {content: \"\";position: absolute;border-left: 1px solid gray;box-sizing: border-box;top: 0;bottom: 0;left: 50%;z-index: 0;}#sk-container-id-1 div.sk-serial {display: flex;flex-direction: column;align-items: center;background-color: white;padding-right: 0.2em;padding-left: 0.2em;position: relative;}#sk-container-id-1 div.sk-item {position: relative;z-index: 1;}#sk-container-id-1 div.sk-parallel {display: flex;align-items: stretch;justify-content: center;background-color: white;position: relative;}#sk-container-id-1 div.sk-item::before, #sk-container-id-1 div.sk-parallel-item::before {content: \"\";position: absolute;border-left: 1px solid gray;box-sizing: border-box;top: 0;bottom: 0;left: 50%;z-index: -1;}#sk-container-id-1 div.sk-parallel-item {display: flex;flex-direction: column;z-index: 1;position: relative;background-color: white;}#sk-container-id-1 div.sk-parallel-item:first-child::after {align-self: flex-end;width: 50%;}#sk-container-id-1 div.sk-parallel-item:last-child::after {align-self: flex-start;width: 50%;}#sk-container-id-1 div.sk-parallel-item:only-child::after {width: 0;}#sk-container-id-1 div.sk-dashed-wrapped {border: 1px dashed gray;margin: 0 0.4em 0.5em 0.4em;box-sizing: border-box;padding-bottom: 0.4em;background-color: white;}#sk-container-id-1 div.sk-label label {font-family: monospace;font-weight: bold;display: inline-block;line-height: 1.2em;}#sk-container-id-1 div.sk-label-container {text-align: center;}#sk-container-id-1 div.sk-container {/* jupyter's `normalize.less` sets `[hidden] { display: none; }` but bootstrap.min.css set `[hidden] { display: none !important; }` so we also need the `!important` here to be able to override the default hidden behavior on the sphinx rendered scikit-learn.org. See: https://github.com/scikit-learn/scikit-learn/issues/21755 */display: inline-block !important;position: relative;}#sk-container-id-1 div.sk-text-repr-fallback {display: none;}</style><div id=\"sk-container-id-1\" class=\"sk-top-container\"><div class=\"sk-text-repr-fallback\"><pre>LinearRegression()</pre><b>In a Jupyter environment, please rerun this cell to show the HTML representation or trust the notebook. <br />On GitHub, the HTML representation is unable to render, please try loading this page with nbviewer.org.</b></div><div class=\"sk-container\" hidden><div class=\"sk-item\"><div class=\"sk-estimator sk-toggleable\"><input class=\"sk-toggleable__control sk-hidden--visually\" id=\"sk-estimator-id-1\" type=\"checkbox\" checked><label for=\"sk-estimator-id-1\" class=\"sk-toggleable__label sk-toggleable__label-arrow\">LinearRegression</label><div class=\"sk-toggleable__content\"><pre>LinearRegression()</pre></div></div></div></div></div>"
      ],
      "text/plain": [
       "LinearRegression()"
      ]
     },
     "execution_count": 20,
     "metadata": {},
     "output_type": "execute_result"
    }
   ],
   "source": [
    "model = LinearRegression()\n",
    "model.fit(x_train,y_train)"
   ]
  },
  {
   "cell_type": "code",
   "execution_count": 21,
   "id": "9891aea0-d719-4c4c-a1dd-e811605fde6e",
   "metadata": {},
   "outputs": [
    {
     "data": {
      "text/plain": [
       "array([0.12609863, 1.00366211, 0.35705566, ..., 0.14599609, 0.25158691,\n",
       "       0.08825684])"
      ]
     },
     "execution_count": 21,
     "metadata": {},
     "output_type": "execute_result"
    }
   ],
   "source": [
    "x_pred = model.predict(x_train)\n",
    "y_pred = model.predict(x_test)  \n",
    "x_pred"
   ]
  },
  {
   "cell_type": "code",
   "execution_count": 22,
   "id": "0c09fefe-e65c-43c1-b321-f3c36c53dc37",
   "metadata": {},
   "outputs": [
    {
     "data": {
      "text/plain": [
       "array([0.0456543 , 0.21557617, 0.27368164, ..., 0.04541016, 0.13562012,\n",
       "       0.50061035])"
      ]
     },
     "execution_count": 22,
     "metadata": {},
     "output_type": "execute_result"
    }
   ],
   "source": [
    "y_pred"
   ]
  },
  {
   "cell_type": "code",
   "execution_count": 23,
   "id": "58dc8d76-4468-4822-9344-64a7bc979b23",
   "metadata": {},
   "outputs": [
    {
     "data": {
      "text/plain": [
       "array([ 7.22337841e+11, -2.47963357e-01, -2.31812763e-01,  7.35838765e-02,\n",
       "        4.74277115e-02,  7.22337841e+11,  6.58811781e-02,  8.59223108e-01,\n",
       "       -7.19215628e-03, -6.97044385e-03,  6.94274435e-03,  1.32865165e-01,\n",
       "        1.49250319e-02, -6.86910488e-03, -3.63590275e-03, -1.61865981e-02,\n",
       "       -2.35327290e-02])"
      ]
     },
     "execution_count": 23,
     "metadata": {},
     "output_type": "execute_result"
    }
   ],
   "source": [
    "model.coef_"
   ]
  },
  {
   "cell_type": "code",
   "execution_count": 24,
   "id": "7bf07e1d-5b75-4d3f-96c5-2d0fb63b6249",
   "metadata": {},
   "outputs": [
    {
     "data": {
      "text/plain": [
       "-722337841395.1271"
      ]
     },
     "execution_count": 24,
     "metadata": {},
     "output_type": "execute_result"
    }
   ],
   "source": [
    "model.intercept_"
   ]
  },
  {
   "cell_type": "code",
   "execution_count": 25,
   "id": "d88dc630-ef17-419d-b83c-bc43ad75b329",
   "metadata": {},
   "outputs": [
    {
     "data": {
      "text/plain": [
       "0.9459903904944398"
      ]
     },
     "execution_count": 25,
     "metadata": {},
     "output_type": "execute_result"
    }
   ],
   "source": [
    "model.score(x_test,y_test)"
   ]
  },
  {
   "cell_type": "code",
   "execution_count": 26,
   "id": "1edb164e-9204-440a-a9f7-405fbbdaaabe",
   "metadata": {
    "scrolled": true
   },
   "outputs": [
    {
     "name": "stderr",
     "output_type": "stream",
     "text": [
      "No artists with labels found to put in legend.  Note that artists whose label start with an underscore are ignored when legend() is called with no argument.\n"
     ]
    },
    {
     "data": {
      "image/png": "[encoded data removed]",
      "text/plain": [
       "<Figure size 640x480 with 1 Axes>"
      ]
     },
     "metadata": {},
     "output_type": "display_data"
    }
   ],
   "source": [
    "fig = plt.figure() \n",
    "plt.scatter(y_pred,y_test) \n",
    "plt.legend() \n",
    "plt.show() "
   ]
  },
  {
   "cell_type": "code",
   "execution_count": 27,
   "id": "f82c1703-ef79-4a72-9f9c-f5d87de6c5e2",
   "metadata": {},
   "outputs": [
    {
     "data": {
      "text/plain": [
       "(array([ 0,  1,  2,  3,  4,  5,  6,  7,  8,  9, 10, 11, 12, 13, 14, 15, 16]),\n",
       " [Text(0, 0, 'year'),\n",
       "  Text(1, 0, 'km_driven'),\n",
       "  Text(2, 0, 'mileage'),\n",
       "  Text(3, 0, 'engine'),\n",
       "  Text(4, 0, 'max_power'),\n",
       "  Text(5, 0, 'age'),\n",
       "  Text(6, 0, 'make'),\n",
       "  Text(7, 0, 'model'),\n",
       "  Text(8, 0, 'Individual'),\n",
       "  Text(9, 0, 'Trustmark Dealer'),\n",
       "  Text(10, 0, 'Diesel'),\n",
       "  Text(11, 0, 'Electric'),\n",
       "  Text(12, 0, 'LPG'),\n",
       "  Text(13, 0, 'Petrol'),\n",
       "  Text(14, 0, 'Manual'),\n",
       "  Text(15, 0, '5'),\n",
       "  Text(16, 0, '>5')])"
      ]
     },
     "execution_count": 27,
     "metadata": {},
     "output_type": "execute_result"
    },
    {
     "data": {
      "image/png": "[encoded data removed]",
      "text/plain": [
       "<Figure size 640x480 with 1 Axes>"
      ]
     },
     "metadata": {},
     "output_type": "display_data"
    }
   ],
   "source": [
    "import seaborn as sns \n",
    "imp = pd.DataFrame(list(zip(x_test.columns,np.abs(model.coef_))),\n",
    "                   columns = ['feature','coeff'])\n",
    "# zip command is use to pack the different datatypes together.\n",
    "sns.barplot(x = 'feature',y = 'coeff',data = imp) \n",
    "plt.xticks(rotation = 90) "
   ]
  },
  {
   "cell_type": "code",
   "execution_count": 28,
   "id": "7a00b918-1d7b-45f8-b672-033bbeedc82f",
   "metadata": {},
   "outputs": [],
   "source": [
    "# r-square matrix it is the measure of how much variance in the data is captured by the regression line.(read)"
   ]
  }
 ],
 "metadata": {
  "kernelspec": {
   "display_name": "Python 3 (ipykernel)",
   "language": "python",
   "name": "python3"
  },
  "language_info": {
   "codemirror_mode": {
    "name": "ipython",
    "version": 3
   },
   "file_extension": ".py",
   "mimetype": "text/x-python",
   "name": "python",
   "nbconvert_exporter": "python",
   "pygments_lexer": "ipython3",
   "version": "3.11.7"
  }
 },
 "nbformat": 4,
 "nbformat_minor": 5
}
